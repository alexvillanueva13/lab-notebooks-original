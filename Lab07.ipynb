{
  "cells": [
    {
      "cell_type": "markdown",
      "metadata": {
        "id": "mcJxOTLyi8zs"
      },
      "source": [
        "<a href=\"https://colab.research.google.com/github/LMU-CMSI-1010/lab-notebooks-original/blob/main/Lab07.ipynb\" target=\"_parent\"><img src=\"https://colab.research.google.com/assets/colab-badge.svg\" alt=\"Open In Colab\"/></a>"
      ]
    },
    {
      "cell_type": "markdown",
      "metadata": {
        "id": "9aXfrLXg9seM"
      },
      "source": [
        "# Lab 07 Making a List\n",
        "In this lab you will practice working with lists.\n",
        "\n",
        "## Sorting cities\n",
        "\n",
        "In the following cell, **complete the function `sorted_cities` that, given a string with the names of cities separated by commas, prints a list of the cities in sorted order.** This function returns `None`.\n",
        "\n"
      ]
    },
    {
      "cell_type": "code",
      "execution_count": 7,
      "metadata": {
        "id": "Rt0kFDWS9RJU",
        "outputId": "9e8b78d7-2b6e-46ec-d03a-4544981b20b4",
        "colab": {
          "base_uri": "https://localhost:8080/"
        }
      },
      "outputs": [
        {
          "output_type": "stream",
          "name": "stdout",
          "text": [
            "Boston\n",
            "Chicago\n",
            "Indianapolis\n",
            "San Francisco\n"
          ]
        }
      ],
      "source": [
        "# TODO: sorted_cities is given a string of city names separated by commas\n",
        "# and prints out the names in sorted order. It returns None\n",
        "def sorted_cities(city_names):\n",
        "    cities_list = city_names.split(',')\n",
        "\n",
        "    sorted_cities_list = sorted(cities_list)\n",
        "\n",
        "    for city in sorted_cities_list:\n",
        "      print(city)\n",
        "\n",
        "# Debugging function calls. You can add more or change\n",
        "# The following should print Boston, Chicago Indianapolis\n",
        "# and San Francisco in that order each city on a new line\n",
        "sorted_cities('San Francisco,Boston,Chicago,Indianapolis')\n",
        "\n"
      ]
    },
    {
      "cell_type": "markdown",
      "metadata": {
        "id": "y2c-tRWA91fr"
      },
      "source": [
        "## Same but Different Order?\n",
        "In the following cell, **complete the function `is_permutation` that, given two lists of integers, returns `True` if and only if both lists contain the same integers but in possibly different orders**. (*Challenge: Does it matter if the code you write is passed lists that are not integers?*)"
      ]
    },
    {
      "cell_type": "code",
      "execution_count": 12,
      "metadata": {
        "id": "NMcvm3E4-sl_"
      },
      "outputs": [],
      "source": [
        "# TODO: is_permutation is given two lists and returns True\n",
        "# if lists contain the same elements, possibly in different orders,\n",
        "# and False otherwise\n",
        "\n",
        "def is_permutation(list1, list2):\n",
        "    # Check if the lengths of both lists are equal\n",
        "    if len(list1) != len(list2):\n",
        "        return False\n",
        "\n",
        "    # Create dictionaries to count integer occurrences\n",
        "    count1 = {}\n",
        "    count2 = {}\n",
        "\n",
        "    # Populate count1 dictionary\n",
        "    for num in list1:\n",
        "        if num in count1:\n",
        "            count1[num] += 1\n",
        "        else:\n",
        "            count1[num] = 1\n",
        "\n",
        "    # Populate count2 dictionary\n",
        "    for num in list2:\n",
        "        if num in count2:\n",
        "            count2[num] += 1\n",
        "        else:\n",
        "            count2[num] = 1\n",
        "\n",
        "    # Compare the dictionaries\n",
        "    return count1 == count2\n",
        "\n",
        "# Below is our test code. Do not modify it, but you may add your own prints.\n",
        "assert(is_permutation([1, 2, 3], [3, 1, 2]) == True)\n",
        "assert(is_permutation([1, 1, 1, 2],[1, 2, 1, 1]) == True)\n",
        "assert(is_permutation([1, 2, 3, 1], [1, 2, 3]) == False)\n",
        "assert(is_permutation([1, 1, 2, 3], [1, 3, 2, 2]) == False)"
      ]
    },
    {
      "cell_type": "markdown",
      "metadata": {
        "id": "zXC7orYI_T3E"
      },
      "source": [
        "## Optional Challenge: Tic Tac Toe\n",
        "In the following cell, you will work towards **implementing a tic tac toe game that uses lists of lists. You will create boards and check if player X or player O has won.**\n"
      ]
    },
    {
      "cell_type": "code",
      "execution_count": 18,
      "metadata": {
        "id": "fpq9XjRC_TJG"
      },
      "outputs": [],
      "source": [
        "# Define variables for the characters on the board\n",
        "x = 'X'\n",
        "o = 'O'\n",
        "empty = '_'\n",
        "\n",
        "# Create empty rows\n",
        "empty_row = [empty, empty, empty]\n",
        "\n",
        "# Create the Tic Tac Toe boards\n",
        "board0 = [empty_row.copy() for _ in range(3)]  # Three empty rows\n",
        "board1 = [[x, empty, o], empty_row.copy(), [x, o, empty]]  # Example board 1\n",
        "board2 = [[x, empty, o], empty_row.copy(), [o, empty, x]]  # Example board 2\n",
        "\n",
        "# Define the has_won function to check for a win\n",
        "def has_won(board, player):\n",
        "    # Check rows\n",
        "    for row in board:\n",
        "        if all(cell == player for cell in row):\n",
        "            return True\n",
        "\n",
        "    # Check columns\n",
        "    for col in range(3):\n",
        "        if all(board[row][col] == player for row in range(3)):\n",
        "            return True\n",
        "\n",
        "    # Check diagonals\n",
        "    if all(board[i][i] == player for i in range(3)) or all(board[i][2 - i] == player for i in range(3)):\n",
        "        return True\n",
        "\n",
        "    return False\n",
        "\n",
        "# Testing code\n",
        "assert has_won(board0, x) == False\n",
        "assert has_won(board1, o) == False\n",
        "\n",
        "\n",
        "# TODO: For even more challenge if you are interested,\n",
        "# can you use your board and has_won function\n",
        "# to complete an implementation for a tic tac toe game?\n",
        "# Start from an empty board and prompt players for moves\n",
        "# until a player has won or the board is full"
      ]
    },
    {
      "cell_type": "markdown",
      "metadata": {
        "id": "dKL0LYd-E4JB"
      },
      "source": [
        "### (Optional) Reflections\n",
        "Add a text cell below to answer the following questions:\n",
        "1. What do you feel more confident about after completing this lab?\n",
        "2. What do you feel you can use more help with after completing this lab?\n",
        "3. Do you have any constructive suggestions on how we can help you or improve this lab?"
      ]
    },
    {
      "cell_type": "markdown",
      "metadata": {
        "id": "gB1aHDpyFYey"
      },
      "source": [
        "### Save your work to GitHub\n",
        "Please save this notebook to your lab repository."
      ]
    },
    {
      "cell_type": "markdown",
      "metadata": {
        "id": "ke4X5r9l3xgv"
      },
      "source": [
        "### Citation\n",
        "These exercises were adapted from pages 256 and 260 in the following book:\n",
        "Ana Bell. 2018. Get Programming: Learn to code with Python. Manning, Shelter Island, NY."
      ]
    }
  ],
  "metadata": {
    "kernelspec": {
      "display_name": "Python 3",
      "language": "python",
      "name": "python3"
    },
    "language_info": {
      "codemirror_mode": {
        "name": "ipython",
        "version": 3
      },
      "file_extension": ".py",
      "mimetype": "text/x-python",
      "name": "python",
      "nbconvert_exporter": "python",
      "pygments_lexer": "ipython3",
      "version": "3.8.5"
    },
    "colab": {
      "provenance": []
    }
  },
  "nbformat": 4,
  "nbformat_minor": 0
}